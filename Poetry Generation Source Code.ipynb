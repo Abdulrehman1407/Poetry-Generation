{
 "cells": [
  {
   "cell_type": "code",
   "execution_count": null,
   "metadata": {
    "id": "vpbYRWXrzmLc",
    "outputId": "51cec645-ccb5-49fb-ae4f-e0862231359b"
   },
   "outputs": [
    {
     "name": "stdout",
     "output_type": "stream",
     "text": [
      "Name: tensorflow\r\n",
      "Version: 2.0.4\r\n",
      "Summary: TensorFlow is an open source machine learning framework for everyone.\r\n",
      "Home-page: https://www.tensorflow.org/\r\n",
      "Author: Google Inc.\r\n",
      "Author-email: packages@tensorflow.org\r\n",
      "License: Apache 2.0\r\n",
      "Location: /home/aleef/anaconda3/envs/abdul/lib/python3.6/site-packages\r\n",
      "Requires: grpcio, gast, termcolor, numpy, keras-applications, protobuf, h5py, absl-py, wrapt, wheel, six, tensorflow-estimator, tensorboard, opt-einsum, google-pasta, astor, keras-preprocessing\r\n",
      "Required-by: \r\n"
     ]
    }
   ],
   "source": [
    "# !pip show tensorflow"
   ]
  },
  {
   "cell_type": "code",
   "execution_count": null,
   "metadata": {
    "id": "or8b9dGezmLu"
   },
   "outputs": [],
   "source": [
    "# !pip install google-cloud-translate"
   ]
  },
  {
   "cell_type": "code",
   "execution_count": null,
   "metadata": {
    "id": "PAnk2ocyC2zY"
   },
   "outputs": [],
   "source": [
    "!pip install pyngrok\n",
    "!pip install flask_ngrok"
   ]
  },
  {
   "cell_type": "code",
   "execution_count": null,
   "metadata": {
    "id": "9wTHfbiIzmLj"
   },
   "outputs": [],
   "source": [
    "import os\n",
    "os.environ[\"GOOGLE_APPLICATION_CREDENTIALS\"]=\"./radiant-gateway-423216-t1-6a61a5b841e0.json\"\n",
    "# os.environ[\"GOOGLE_APPLICATION_CREDENTIALS\"]=\"/home/aleef/Downloads/radiant-gateway-423216-t1-6a61a5b841e0.json\""
   ]
  },
  {
   "cell_type": "code",
   "execution_count": null,
   "metadata": {
    "colab": {
     "base_uri": "https://localhost:8080/"
    },
    "id": "NZ1Hot6WzmLp",
    "outputId": "08408be3-4b64-4aeb-f380-6e8f88a71361"
   },
   "outputs": [
    {
     "name": "stdout",
     "output_type": "stream",
     "text": [
      "{'translatedText': 'Bonjour le monde!', 'detectedSourceLanguage': 'en', 'input': 'Hello, world!'}\n"
     ]
    }
   ],
   "source": [
    "from google.cloud import translate_v2\n",
    "translate_client = translate_v2.Client()\n",
    "\n",
    "text = \"Hello, world!\"\n",
    "target = 'fr'  # French\n",
    "output = translate_client.translate(text, target_language=target)\n",
    "print(output)\n"
   ]
  },
  {
   "cell_type": "code",
   "execution_count": 1,
   "metadata": {
    "id": "7iqLOZ_BzmLw"
   },
   "outputs": [],
   "source": [
    "import tensorflow as tf\n",
    "import numpy as np\n",
    "import pandas as pd\n",
    "import matplotlib.pyplot as plt\n",
    "import tensorflow.keras.utils as ku\n",
    "from wordcloud import WordCloud\n",
    "from tensorflow.keras.preprocessing.sequence import pad_sequences\n",
    "from tensorflow.keras.layers import Embedding, LSTM, Dense, Dropout, Bidirectional\n",
    "from tensorflow.keras.preprocessing.text import Tokenizer\n",
    "from tensorflow.keras.models import Sequential\n",
    "from tensorflow.keras.optimizers import Adam\n",
    "from tensorflow.keras import regularizers\n",
    "from tensorflow import keras\n",
    "from google.cloud import translate"
   ]
  },
  {
   "cell_type": "code",
   "execution_count": null,
   "metadata": {
    "id": "0u0nqhr8zmLz"
   },
   "outputs": [],
   "source": [
    "def detect_language(text: str):\n",
    "    \"\"\"Detect the text\"\"\"\n",
    "    translate_client = translate.Client()\n",
    "    response = translate_client.detect_language(text)\n",
    "    return response['language']\n",
    "\n",
    "def translate_text(text, target_language):\n",
    "\n",
    "    translate_client = translate_v2.Client()\n",
    "\n",
    "    output = translate_client.translate(text, target_language=target_language)\n",
    "\n",
    "    return output['translatedText']"
   ]
  },
  {
   "cell_type": "code",
   "execution_count": null,
   "metadata": {
    "colab": {
     "base_uri": "https://localhost:8080/"
    },
    "id": "jNeJaak_zmL1",
    "outputId": "4b48c4ed-66ca-4508-8606-3cc67a8ec0e3"
   },
   "outputs": [
    {
     "name": "stdout",
     "output_type": "stream",
     "text": [
      "['mistra1' 'I have wished a bird would fly away,'\n",
      " 'And not sing by my house all day;' ...\n",
      " \"'Twas throwing words away; for still\"\n",
      " 'The little Maid would have her will,' 'And said, \"Nay, we are seven!\"']\n"
     ]
    }
   ],
   "source": [
    "ENG = pd.read_csv(\"English (Dataset).csv\", encoding='utf-8', header=None, sep=',', names=['mistra1'])\n",
    "Urdu = pd.read_csv(\"Poetry_Dataset_New.csv\", encoding='utf-8', header=None, sep=',', names=['mistra1'])\n",
    "Spanish = pd.read_csv(\"Spanish.csv\", encoding='utf-8', header=None, sep=',', names=['mistra1'])\n",
    "shayari= ENG[:2000]\n",
    "print(shayari['mistra1'].unique())"
   ]
  },
  {
   "cell_type": "code",
   "execution_count": null,
   "metadata": {
    "colab": {
     "base_uri": "https://localhost:8080/"
    },
    "id": "8nzp41_CzmL4",
    "outputId": "67f9aae2-c47c-4990-f168-80b19dc438da"
   },
   "outputs": [
    {
     "data": {
      "text/plain": [
       "1843"
      ]
     },
     "execution_count": 8,
     "metadata": {},
     "output_type": "execute_result"
    }
   ],
   "source": [
    "len(shayari[:2000])"
   ]
  },
  {
   "cell_type": "code",
   "execution_count": null,
   "metadata": {
    "colab": {
     "base_uri": "https://localhost:8080/"
    },
    "id": "eCUMdnEgzmL6",
    "outputId": "7628855d-5af9-4f90-8fb0-b26b9ff1b878"
   },
   "outputs": [
    {
     "name": "stdout",
     "output_type": "stream",
     "text": [
      "Total Words: 3065\n"
     ]
    }
   ],
   "source": [
    "from tensorflow.keras.utils import to_categorical\n",
    "\n",
    "# Fitting the Tokenizer on the Corpus\n",
    "tokenizer = Tokenizer()\n",
    "tokenizer.fit_on_texts(shayari['mistra1'])\n",
    "\n",
    "# Vocabulary count of the corpus\n",
    "total_words = len(tokenizer.word_index)\n",
    "print(\"Total Words:\", total_words)\n",
    "\n",
    "# Converting the text into embeddings\n",
    "input_sequences = []\n",
    "for line in shayari['mistra1']:\n",
    "    token_list = tokenizer.texts_to_sequences([line])[0]\n",
    "    for i in range(1, len(token_list)):\n",
    "        n_gram_sequence = token_list[:i+1]\n",
    "        input_sequences.append(n_gram_sequence)\n",
    "\n",
    "# Check if input_sequences is empty\n",
    "if input_sequences:\n",
    "    max_sequence_len = max([len(x) for x in input_sequences])\n",
    "    input_sequences = np.array(pad_sequences(input_sequences, maxlen=max_sequence_len, padding='pre'))\n",
    "    predictors, label = input_sequences[:, :-1], input_sequences[:, -1]\n",
    "    label = to_categorical(label, num_classes=total_words+1)\n",
    "else:\n",
    "    print(\"Error: No input sequences generated. Please check your corpus data.\")\n"
   ]
  },
  {
   "cell_type": "markdown",
   "metadata": {
    "id": "4b8LFEPyzmL9"
   },
   "source": [
    "# **Bi-Directional LSTM Model**"
   ]
  },
  {
   "cell_type": "code",
   "execution_count": null,
   "metadata": {
    "colab": {
     "base_uri": "https://localhost:8080/"
    },
    "id": "HjUSaPwVzmMB",
    "outputId": "77693999-3651-407e-9713-520d1de47545"
   },
   "outputs": [
    {
     "name": "stdout",
     "output_type": "stream",
     "text": [
      "Model: \"sequential\"\n",
      "_________________________________________________________________\n",
      " Layer (type)                Output Shape              Param #   \n",
      "=================================================================\n",
      " embedding (Embedding)       (None, 61, 100)           306600    \n",
      "                                                                 \n",
      " bidirectional (Bidirection  (None, 61, 300)           301200    \n",
      " al)                                                             \n",
      "                                                                 \n",
      " dropout (Dropout)           (None, 61, 300)           0         \n",
      "                                                                 \n",
      " lstm_1 (LSTM)               (None, 100)               160400    \n",
      "                                                                 \n",
      " dense (Dense)               (None, 3065)              309565    \n",
      "                                                                 \n",
      " dense_1 (Dense)             (None, 3066)              9400356   \n",
      "                                                                 \n",
      "=================================================================\n",
      "Total params: 10478121 (39.97 MB)\n",
      "Trainable params: 10478121 (39.97 MB)\n",
      "Non-trainable params: 0 (0.00 Byte)\n",
      "_________________________________________________________________\n",
      "None\n"
     ]
    }
   ],
   "source": [
    "    # Building a Bi-Directional LSTM Model\n",
    "model_BiLSTM = Sequential()\n",
    "model_BiLSTM.add(Embedding(total_words+1, 100, input_length=max_sequence_len-1))\n",
    "model_BiLSTM.add(Bidirectional(LSTM(150, return_sequences=True)))\n",
    "model_BiLSTM.add(Dropout(0.2))\n",
    "model_BiLSTM.add(LSTM(100))\n",
    "model_BiLSTM.add(Dense(total_words+1/2, activation='relu', kernel_regularizer=regularizers.l2(0.01)))\n",
    "model_BiLSTM.add(Dense(total_words+1, activation='softmax'))\n",
    "model_BiLSTM.compile(loss='categorical_crossentropy',optimizer='adam', metrics=['accuracy'])\n",
    "print(model_BiLSTM.summary())"
   ]
  },
  {
   "cell_type": "markdown",
   "metadata": {
    "id": "vDO5HjyZzmME"
   },
   "source": [
    "# **LSTM Model**"
   ]
  },
  {
   "cell_type": "code",
   "execution_count": null,
   "metadata": {
    "colab": {
     "base_uri": "https://localhost:8080/"
    },
    "id": "m5MnhRo1zmMF",
    "outputId": "44e79059-1413-4951-c65b-20dff70768ae"
   },
   "outputs": [
    {
     "name": "stdout",
     "output_type": "stream",
     "text": [
      "Model: \"sequential_1\"\n",
      "_________________________________________________________________\n",
      " Layer (type)                Output Shape              Param #   \n",
      "=================================================================\n",
      " embedding_1 (Embedding)     (None, 61, 100)           306600    \n",
      "                                                                 \n",
      " dropout_1 (Dropout)         (None, 61, 100)           0         \n",
      "                                                                 \n",
      " dense_2 (Dense)             (None, 61, 3066)          309666    \n",
      "                                                                 \n",
      "=================================================================\n",
      "Total params: 616266 (2.35 MB)\n",
      "Trainable params: 616266 (2.35 MB)\n",
      "Non-trainable params: 0 (0.00 Byte)\n",
      "_________________________________________________________________\n",
      "None\n"
     ]
    }
   ],
   "source": [
    "\n",
    "# define the LSTM model\n",
    "model_lstm = Sequential()\n",
    "model_lstm.add(Embedding(total_words+1, 100, input_length=max_sequence_len-1))\n",
    "model_lstm.add(Dropout(0.2))\n",
    "model_lstm.add(Dense(total_words+1, activation='softmax'))\n",
    "model_lstm.compile(loss='categorical_crossentropy', optimizer='adam')\n",
    "print(model_lstm.summary())\n"
   ]
  },
  {
   "cell_type": "markdown",
   "metadata": {
    "id": "YQQBlM7CzmMH"
   },
   "source": [
    "# **3. Gated Recurrent Unit (GRU)**"
   ]
  },
  {
   "cell_type": "code",
   "execution_count": null,
   "metadata": {
    "colab": {
     "base_uri": "https://localhost:8080/"
    },
    "id": "5sCdcIg6zmMI",
    "outputId": "65e118e2-0d6e-41b1-d0f8-b1ea5605366c"
   },
   "outputs": [
    {
     "name": "stdout",
     "output_type": "stream",
     "text": [
      "Model: \"sequential_2\"\n",
      "_________________________________________________________________\n",
      " Layer (type)                Output Shape              Param #   \n",
      "=================================================================\n",
      " embedding_2 (Embedding)     (None, 61, 100)           306600    \n",
      "                                                                 \n",
      " bidirectional_1 (Bidirecti  (None, 256)               176640    \n",
      " onal)                                                           \n",
      "                                                                 \n",
      " dense_3 (Dense)             (None, 3066)              787962    \n",
      "                                                                 \n",
      " dense_4 (Dense)             (None, 3066)              9403422   \n",
      "                                                                 \n",
      "=================================================================\n",
      "Total params: 10674624 (40.72 MB)\n",
      "Trainable params: 10674624 (40.72 MB)\n",
      "Non-trainable params: 0 (0.00 Byte)\n",
      "_________________________________________________________________\n"
     ]
    }
   ],
   "source": [
    "\n",
    "# Parameters\n",
    "embedding_dim = 300\n",
    "gru_dim = 128\n",
    "dense_dim = total_words+1\n",
    "\n",
    "#define a model which used bidirection GRU, other details will be same as model_lstm\n",
    "\n",
    "# Model Definition with GRU\n",
    "model_gru = tf.keras.Sequential([\n",
    "    tf.keras.layers.Embedding(total_words+1, 100, input_length=max_sequence_len-1),\n",
    "    tf.keras.layers.Bidirectional(tf.keras.layers.GRU(units=gru_dim)),#add an LSTM layer where the no of units is equal to lstm_dim),\n",
    "    tf.keras.layers.Dense(dense_dim, activation='relu'),\n",
    "    tf.keras.layers.Dense(total_words+1, activation='sigmoid')\n",
    "])\n",
    "\n",
    "# Set the training parameters\n",
    "# compile the above model for loss='binary_crossentropy',optimizer='adam',metrics=['accuracy']\n",
    "model_gru.compile(loss='categorical_crossentropy',optimizer='adam',metrics=['accuracy'])\n",
    "\n",
    "# Print the model summary\n",
    "model_gru.summary()"
   ]
  },
  {
   "cell_type": "markdown",
   "metadata": {
    "id": "1r1RILeDzmMJ"
   },
   "source": [
    "# **4. Convolutional Neural Networks (CNNs)**"
   ]
  },
  {
   "cell_type": "code",
   "execution_count": null,
   "metadata": {
    "colab": {
     "base_uri": "https://localhost:8080/"
    },
    "id": "7kWXhrHzzmMK",
    "outputId": "89e3dcbc-49a4-4204-9762-adab23462e83"
   },
   "outputs": [
    {
     "name": "stdout",
     "output_type": "stream",
     "text": [
      "Model: \"sequential_3\"\n",
      "_________________________________________________________________\n",
      " Layer (type)                Output Shape              Param #   \n",
      "=================================================================\n",
      " embedding_3 (Embedding)     (None, 61, 100)           306600    \n",
      "                                                                 \n",
      " conv1d (Conv1D)             (None, 57, 128)           64128     \n",
      "                                                                 \n",
      " global_average_pooling1d (  (None, 128)               0         \n",
      " GlobalAveragePooling1D)                                         \n",
      "                                                                 \n",
      " dense_5 (Dense)             (None, 3066)              395514    \n",
      "                                                                 \n",
      " dense_6 (Dense)             (None, 3066)              9403422   \n",
      "                                                                 \n",
      "=================================================================\n",
      "Total params: 10169664 (38.79 MB)\n",
      "Trainable params: 10169664 (38.79 MB)\n",
      "Non-trainable params: 0 (0.00 Byte)\n",
      "_________________________________________________________________\n"
     ]
    }
   ],
   "source": [
    "filters = 128\n",
    "kernel_size = 5\n",
    "dense_dim = total_words+1\n",
    "# Model Definition with Conv1D\n",
    "model_conv = tf.keras.Sequential([\n",
    "    # add embedding layer with vocab_size, embedding_dim, input_length=max_length,\n",
    "    #add Conv1D with filters, kernel_size, activation='relu' mentioned above,\n",
    "    tf.keras.layers.Embedding(total_words+1, 100, input_length=max_sequence_len-1),\n",
    "    tf.keras.layers.Conv1D(filters=filters, kernel_size=kernel_size),\n",
    "    tf.keras.layers.GlobalAveragePooling1D(),\n",
    "    tf.keras.layers.Dense(dense_dim, activation='relu'),\n",
    "    tf.keras.layers.Dense(total_words+1, activation='sigmoid')\n",
    "])\n",
    "\n",
    "# Set the training parameters\n",
    "# compile the above model for loss='binary_crossentropy',optimizer='adam',metrics=['accuracy']\n",
    "model_conv.compile(loss='categorical_crossentropy',optimizer='adam',metrics=['accuracy'])\n",
    "\n",
    "# Print the model summary\n",
    "model_conv.summary()"
   ]
  },
  {
   "cell_type": "markdown",
   "metadata": {
    "id": "bB-jbJGpzmML"
   },
   "source": [
    "# **5.Flatten**"
   ]
  },
  {
   "cell_type": "code",
   "execution_count": null,
   "metadata": {
    "colab": {
     "base_uri": "https://localhost:8080/"
    },
    "id": "agQ2v0fOzmML",
    "outputId": "1460cd52-979d-4123-a901-aa199f5709d2",
    "scrolled": true
   },
   "outputs": [
    {
     "name": "stdout",
     "output_type": "stream",
     "text": [
      "Model: \"sequential_4\"\n",
      "_________________________________________________________________\n",
      " Layer (type)                Output Shape              Param #   \n",
      "=================================================================\n",
      " embedding_4 (Embedding)     (None, 61, 100)           306600    \n",
      "                                                                 \n",
      " flatten (Flatten)           (None, 6100)              0         \n",
      "                                                                 \n",
      " dense_7 (Dense)             (None, 3066)              18705666  \n",
      "                                                                 \n",
      " dropout_2 (Dropout)         (None, 3066)              0         \n",
      "                                                                 \n",
      " dense_8 (Dense)             (None, 3066)              9403422   \n",
      "                                                                 \n",
      " dense_9 (Dense)             (None, 3066)              9403422   \n",
      "                                                                 \n",
      "=================================================================\n",
      "Total params: 37819110 (144.27 MB)\n",
      "Trainable params: 37819110 (144.27 MB)\n",
      "Non-trainable params: 0 (0.00 Byte)\n",
      "_________________________________________________________________\n"
     ]
    },
    {
     "name": "stderr",
     "output_type": "stream",
     "text": [
      "WARNING:absl:`lr` is deprecated in Keras optimizer, please use `learning_rate` or use the legacy optimizer, e.g.,tf.keras.optimizers.legacy.Adam.\n"
     ]
    },
    {
     "name": "stdout",
     "output_type": "stream",
     "text": [
      "Model: \"sequential_4\"\n",
      "_________________________________________________________________\n",
      " Layer (type)                Output Shape              Param #   \n",
      "=================================================================\n",
      " embedding_4 (Embedding)     (None, 61, 100)           306600    \n",
      "                                                                 \n",
      " flatten (Flatten)           (None, 6100)              0         \n",
      "                                                                 \n",
      " dense_7 (Dense)             (None, 3066)              18705666  \n",
      "                                                                 \n",
      " dropout_2 (Dropout)         (None, 3066)              0         \n",
      "                                                                 \n",
      " dense_8 (Dense)             (None, 3066)              9403422   \n",
      "                                                                 \n",
      " dense_9 (Dense)             (None, 3066)              9403422   \n",
      "                                                                 \n",
      "=================================================================\n",
      "Total params: 37819110 (144.27 MB)\n",
      "Trainable params: 37819110 (144.27 MB)\n",
      "Non-trainable params: 0 (0.00 Byte)\n",
      "_________________________________________________________________\n"
     ]
    }
   ],
   "source": [
    "# Model Definition with a Flatten layer\n",
    "model_flatten = tf.keras.Sequential([\n",
    "    # Add embedding layer with vocab_size, embedding_dim, input_length=max_length,\n",
    "    tf.keras.layers.Embedding(total_words+1, 100, input_length=max_sequence_len-1),\n",
    "    tf.keras.layers.Flatten(),\n",
    "    tf.keras.layers.Dense(dense_dim, activation='relu'),\n",
    "    # tf.keras.layers.BatchNormalization(),\n",
    "    tf.keras.layers.Dropout(0.3),\n",
    "    tf.keras.layers.Dense(total_words+1, activation='relu'),\n",
    "    tf.keras.layers.Dense(total_words+1, activation='sigmoid')\n",
    "])\n",
    "\n",
    "model_flatten.summary()\n",
    "# Set the training parameters\n",
    "\n",
    "# Add code below\n",
    "optimizer = keras.optimizers.Adam(lr=0.001)\n",
    "model_flatten.compile(loss='categorical_crossentropy',optimizer=optimizer,metrics=['categorical_accuracy'])\n",
    "\n",
    "# Print the model summary\n",
    "model_flatten.summary()"
   ]
  },
  {
   "cell_type": "code",
   "execution_count": null,
   "metadata": {
    "id": "gMk7NNX2zmMM"
   },
   "outputs": [],
   "source": [
    "def preprocess_data(corpus):\n",
    "    global predictors, label, max_sequence_len, total_words, tokenizer  # Declare globals\n",
    "\n",
    "    tokenizer = Tokenizer()\n",
    "    tokenizer.fit_on_texts(corpus)\n",
    "\n",
    "    total_words = len(tokenizer.word_index)\n",
    "    print(\"Total Words:\", total_words)\n",
    "\n",
    "    input_sequences = []\n",
    "    for line in corpus:\n",
    "        token_list = tokenizer.texts_to_sequences([line])[0]\n",
    "        for i in range(1, len(token_list)):\n",
    "            n_gram_sequence = token_list[:i+1]\n",
    "            input_sequences.append(n_gram_sequence)\n",
    "\n",
    "    if input_sequences:\n",
    "        max_sequence_len = max([len(x) for x in input_sequences])\n",
    "        input_sequences = np.array(pad_sequences(input_sequences, maxlen=max_sequence_len, padding='pre'))\n",
    "        predictors, label = input_sequences[:, :-1], input_sequences[:, -1]\n",
    "        label = to_categorical(label, num_classes=total_words+1)\n",
    "    else:\n",
    "        raise ValueError(\"No input sequences generated. Please check your corpus data.\")"
   ]
  },
  {
   "cell_type": "code",
   "execution_count": null,
   "metadata": {
    "id": "KrUQkpa7zmMN"
   },
   "outputs": [],
   "source": [
    "def create_model_bilstm():\n",
    "    model = Sequential()\n",
    "    model.add(Embedding(total_words+1, 100, input_length=max_sequence_len-1))\n",
    "    model.add(Bidirectional(LSTM(150, return_sequences=True)))\n",
    "    model.add(Dropout(0.2))\n",
    "    model.add(LSTM(100))\n",
    "    model.add(Dense(total_words+1//2, activation='relu', kernel_regularizer=regularizers.l2(0.01)))\n",
    "    model.add(Dense(total_words+1, activation='softmax'))\n",
    "    model.compile(loss='categorical_crossentropy', optimizer='adam', metrics=['accuracy'])\n",
    "    print(model.summary())\n",
    "    return model"
   ]
  },
  {
   "cell_type": "code",
   "execution_count": null,
   "metadata": {
    "id": "QptR2AsOzmMN"
   },
   "outputs": [],
   "source": [
    "def create_model_lstm():\n",
    "    model = Sequential()\n",
    "    model.add(Embedding(total_words+1, 100, input_length=max_sequence_len-1))\n",
    "    model.add(Dropout(0.2))\n",
    "    model.add(Dense(total_words+1, activation='softmax'))\n",
    "    model.compile(loss='categorical_crossentropy', optimizer='adam')\n",
    "    print(model.summary())\n",
    "    return model"
   ]
  },
  {
   "cell_type": "code",
   "execution_count": null,
   "metadata": {
    "id": "pE2ugRIwzmMO"
   },
   "outputs": [],
   "source": [
    "def create_model_gru():\n",
    "    embedding_dim = 300\n",
    "    gru_dim = 128\n",
    "    dense_dim = total_words + 1\n",
    "    model = tf.keras.Sequential([\n",
    "        tf.keras.layers.Embedding(total_words+1, 100, input_length=max_sequence_len-1),\n",
    "        tf.keras.layers.Bidirectional(tf.keras.layers.GRU(units=gru_dim)),\n",
    "        tf.keras.layers.Dense(dense_dim, activation='relu'),\n",
    "        tf.keras.layers.Dense(total_words+1, activation='sigmoid')\n",
    "    ])\n",
    "    model.compile(loss='categorical_crossentropy', optimizer='adam', metrics=['accuracy'])\n",
    "    print(model.summary())\n",
    "    return model"
   ]
  },
  {
   "cell_type": "code",
   "execution_count": null,
   "metadata": {
    "id": "v52TJsOozmMO"
   },
   "outputs": [],
   "source": [
    "def create_model_conv():\n",
    "    filters = 128\n",
    "    kernel_size = 5\n",
    "    dense_dim = total_words + 1\n",
    "    model = tf.keras.Sequential([\n",
    "        tf.keras.layers.Embedding(total_words+1, 100, input_length=max_sequence_len-1),\n",
    "        tf.keras.layers.Conv1D(filters=filters, kernel_size=kernel_size),\n",
    "        tf.keras.layers.GlobalAveragePooling1D(),\n",
    "        tf.keras.layers.Dense(dense_dim, activation='relu'),\n",
    "        tf.keras.layers.Dense(total_words+1, activation='sigmoid')\n",
    "    ])\n",
    "    model.compile(loss='categorical_crossentropy', optimizer='adam', metrics=['accuracy'])\n",
    "    print(model.summary())\n",
    "    return model"
   ]
  },
  {
   "cell_type": "code",
   "execution_count": null,
   "metadata": {
    "id": "OP9pFRkvzmMO"
   },
   "outputs": [],
   "source": [
    "def create_model_flatten():\n",
    "    dense_dim = total_words + 1\n",
    "    model = tf.keras.Sequential([\n",
    "        tf.keras.layers.Embedding(total_words+1, 100, input_length=max_sequence_len-1),\n",
    "        tf.keras.layers.Flatten(),\n",
    "        tf.keras.layers.Dense(dense_dim, activation='relu'),\n",
    "        tf.keras.layers.Dropout(0.3),\n",
    "        tf.keras.layers.Dense(total_words+1, activation='relu'),\n",
    "        tf.keras.layers.Dense(total_words+1, activation='sigmoid')\n",
    "    ])\n",
    "    optimizer = tf.keras.optimizers.Adam(learning_rate=0.001)\n",
    "    model.compile(loss='categorical_crossentropy', optimizer=optimizer, metrics=['categorical_accuracy'])\n",
    "    print(model.summary())\n",
    "    return model"
   ]
  },
  {
   "cell_type": "code",
   "execution_count": null,
   "metadata": {
    "id": "5IvjFrBNzmMP"
   },
   "outputs": [],
   "source": []
  },
  {
   "cell_type": "code",
   "execution_count": null,
   "metadata": {
    "id": "1__slfUjzmMP"
   },
   "outputs": [],
   "source": []
  },
  {
   "cell_type": "markdown",
   "metadata": {
    "id": "1lgheLnGzmMP"
   },
   "source": [
    "# **Model Training**"
   ]
  },
  {
   "cell_type": "code",
   "execution_count": null,
   "metadata": {
    "id": "pSwyzpsTzmMQ"
   },
   "outputs": [],
   "source": [
    "def BiLSTM_Model(text):\n",
    "    #Model Training\n",
    "    model = create_model_bilstm()\n",
    "    history_BiLSTM =  model.fit(predictors, label, epochs=1, verbose=1)\n",
    "    seed_text = text\n",
    "    next_words = 25\n",
    "    ouptut_text = \"\"\n",
    "    for _ in range(next_words):\n",
    "        token_list = tokenizer.texts_to_sequences([seed_text])[0]\n",
    "        token_list = pad_sequences(\n",
    "            [token_list], maxlen=max_sequence_len-1,\n",
    "        padding='pre')\n",
    "        predicted = np.argmax( model.predict(token_list, verbose=0), axis=-1)\n",
    "        output_word = \"\"\n",
    "        for word, index in tokenizer.word_index.items():\n",
    "            if index == predicted:\n",
    "                output_word = word\n",
    "                break\n",
    "        seed_text += \" \" + output_word\n",
    "\n",
    "    return(seed_text)\n",
    "\n",
    "def LSTM_Model(text):\n",
    "    model = create_model_lstm()\n",
    "    #Model Training\n",
    "    history_lstm = model.fit(predictors, label, epochs=15, verbose=1)\n",
    "    seed_text = text\n",
    "    next_words = 15\n",
    "    ouptut_text = \"\"\n",
    "    for _ in range(next_words):\n",
    "        token_list = tokenizer.texts_to_sequences([seed_text])[0]\n",
    "        token_list = pad_sequences(\n",
    "            [token_list], maxlen=max_sequence_len-1,\n",
    "        padding='pre')\n",
    "        predicted = np.argmax(model.predict(token_list, verbose=0), axis=-1)\n",
    "        output_word = \"\"\n",
    "        for word, index in tokenizer.word_index.items():\n",
    "            if index == predicted:\n",
    "                output_word = word\n",
    "                break\n",
    "        seed_text += \" \" + output_word\n",
    "\n",
    "    return(seed_text)\n",
    "\n",
    "def GRU_Model(text):\n",
    "    #Model Training\n",
    "    model = create_model_gru()\n",
    "    history_GRU = model.fit(predictors, label, epochs=1, verbose=1)\n",
    "    seed_text = text\n",
    "    next_words = 25\n",
    "    ouptut_text = \"\"\n",
    "    for _ in range(next_words):\n",
    "        token_list = tokenizer.texts_to_sequences([seed_text])[0]\n",
    "        token_list = pad_sequences(\n",
    "            [token_list], maxlen=max_sequence_len-1,\n",
    "        padding='pre')\n",
    "        predicted = np.argmax(model.predict(token_list, verbose=0), axis=-1)\n",
    "        output_word = \"\"\n",
    "        for word, index in tokenizer.word_index.items():\n",
    "            if index == predicted:\n",
    "                output_word = word\n",
    "                break\n",
    "        seed_text += \" \" + output_word\n",
    "\n",
    "    return(seed_text)\n",
    "\n",
    "def CNN_Model(text):\n",
    "    #Model Training\n",
    "    model = create_model_conv()\n",
    "    history_CNN = model.fit(predictors, label, epochs=150, verbose=1)\n",
    "    seed_text = text\n",
    "    next_words = 25\n",
    "    ouptut_text = \"\"\n",
    "    for _ in range(next_words):\n",
    "        token_list = tokenizer.texts_to_sequences([seed_text])[0]\n",
    "        token_list = pad_sequences(\n",
    "            [token_list], maxlen=max_sequence_len-1,\n",
    "        padding='pre')\n",
    "        predicted = np.argmax(model.predict(token_list, verbose=0), axis=-1)\n",
    "        output_word = \"\"\n",
    "        for word, index in tokenizer.word_index.items():\n",
    "            if index == predicted:\n",
    "                output_word = word\n",
    "                break\n",
    "        seed_text += \" \" + output_word\n",
    "\n",
    "    return(seed_text)\n",
    "\n",
    "def Flatten_Model(text):\n",
    "    #Model Training\n",
    "    model = create_model_conv()\n",
    "    history_CNN = model.fit(predictors, label, epochs=150, verbose=1)\n",
    "    seed_text = text\n",
    "    next_words = 25\n",
    "    ouptut_text = \"\"\n",
    "    for _ in range(next_words):\n",
    "        token_list = tokenizer.texts_to_sequences([seed_text])[0]\n",
    "        token_list = pad_sequences(\n",
    "            [token_list], maxlen=max_sequence_len-1,\n",
    "        padding='pre')\n",
    "        predicted = np.argmax(model.predict(token_list, verbose=0), axis=-1)\n",
    "        output_word = \"\"\n",
    "        for word, index in tokenizer.word_index.items():\n",
    "            if index == predicted:\n",
    "                output_word = word\n",
    "                break\n",
    "        seed_text += \" \" + output_word\n",
    "\n",
    "    return(seed_text)"
   ]
  },
  {
   "cell_type": "markdown",
   "metadata": {},
   "source": [
    "#### Please add your ngrok token here"
   ]
  },
  {
   "cell_type": "code",
   "execution_count": 61,
   "metadata": {
    "colab": {
     "base_uri": "https://localhost:8080/"
    },
    "id": "62NACkaFB9BI",
    "outputId": "8eec29c8-088f-4eee-9cf0-2cde57bbb02d"
   },
   "outputs": [
    {
     "name": "stdout",
     "output_type": "stream",
     "text": [
      "Authtoken saved to configuration file: /root/.config/ngrok/ngrok.yml\n"
     ]
    }
   ],
   "source": [
    "!ngrok config add-authtoken \"Your Ngrok auth token\""
   ]
  },
  {
   "cell_type": "code",
   "execution_count": 62,
   "metadata": {
    "id": "XTEyjh9uB86X"
   },
   "outputs": [],
   "source": [
    "from pyngrok import ngrok\n",
    "\n",
    "public_url = ngrok.connect(5000)"
   ]
  },
  {
   "cell_type": "code",
   "execution_count": null,
   "metadata": {
    "id": "0GK2VzUmB8vY"
   },
   "outputs": [],
   "source": []
  },
  {
   "cell_type": "code",
   "execution_count": 43,
   "metadata": {
    "id": "G4syu5KSzmMR"
   },
   "outputs": [],
   "source": [
    "from flask import Flask, render_template, request\n",
    "from werkzeug.serving import run_simple"
   ]
  },
  {
   "cell_type": "code",
   "execution_count": 44,
   "metadata": {
    "id": "RVGm4pAk7VMu"
   },
   "outputs": [],
   "source": [
    "from google.colab import output\n",
    "output.serve_kernel_port_as_window(5000)"
   ]
  },
  {
   "cell_type": "code",
   "execution_count": 12,
   "metadata": {
    "id": "sf6uVl6LzmMS"
   },
   "outputs": [],
   "source": [
    "from flask import Flask, request, render_template\n",
    "from flask_ngrok import run_with_ngrok\n",
    "\n",
    "app = Flask(__name__)\n",
    "run_with_ngrok(app)\n",
    "\n",
    "@app.route('/', methods=['GET', 'POST'])\n",
    "def index():\n",
    "    result = None\n",
    "    translated_result = None\n",
    "    if request.method == 'POST':\n",
    "        text = request.form['text']\n",
    "        model_type = request.form['model_type']\n",
    "        language = request.form['language']\n",
    "        translate_language = request.form['translate_language']\n",
    "\n",
    "\n",
    "        if model_type == 'BiLSTM':\n",
    "            result = BiLSTM_Model(text)\n",
    "        elif model_type == 'None':\n",
    "            None\n",
    "        elif model_type == 'GRU':\n",
    "            result = GRU_Model(text)\n",
    "        elif model_type == 'CNN':\n",
    "            result = CNN_Model(text)\n",
    "        elif model_type == 'Flatten':\n",
    "            result = Flatten_Model(text)\n",
    "        else:\n",
    "            result = \"Invalid model type\"\n",
    "        if language == 'english':\n",
    "            a = ENG[:1800]\n",
    "            preprocess_data(a['mistra1'])\n",
    "        elif language == 'None':\n",
    "            None\n",
    "        elif language == 'urdu':\n",
    "            a = Urdu[:1800]\n",
    "            preprocess_data(a['mistra1'])\n",
    "\n",
    "        elif language == 'spanish':\n",
    "            a = Spanish[:1800]\n",
    "            preprocess_data(a['mistra1'])\n",
    "\n",
    "\n",
    "\n",
    "        if translate_language == 'en':\n",
    "            translated_result = translate_text(text, 'en')\n",
    "        elif translate_language == 'None':\n",
    "            None\n",
    "        elif translate_language == 'ur':\n",
    "            translated_result = translate_text(text, 'ur')\n",
    "        elif translate_language == 'es':\n",
    "            translated_result = translate_text(text, 'es')\n",
    "        elif translate_language == 'fr':\n",
    "            translated_result = translate_text(text, 'fr')\n",
    "        elif translate_language == 'fr':\n",
    "            translated_result = translate_text(text, 'ar')\n",
    "        elif translate_language == 'fr':\n",
    "            translated_result = translate_text(text, 'de')\n",
    "        elif translate_language == 'fr':\n",
    "            translated_result = translate_text(text, 'ja')\n",
    "    \n",
    "        return render_template('index.html', result=result, translated_result=translated_result)\n",
    "    else:\n",
    "        return render_template('index.html')\n",
    "\n"
   ]
  },
  {
   "cell_type": "code",
   "execution_count": 13,
   "metadata": {
    "colab": {
     "base_uri": "https://localhost:8080/"
    },
    "id": "pmu81-wlzmMT",
    "outputId": "f5e51928-7bcd-43a3-9efd-4a14315c52fe"
   },
   "outputs": [
    {
     "name": "stdout",
     "output_type": "stream",
     "text": [
      " * Serving Flask app '__main__' (lazy loading)\n",
      " * Environment: production\n",
      "\u001b[31m   WARNING: This is a development server. Do not use it in a production deployment.\u001b[0m\n",
      "\u001b[2m   Use a production WSGI server instead.\u001b[0m\n",
      " * Debug mode: off\n"
     ]
    },
    {
     "name": "stderr",
     "output_type": "stream",
     "text": [
      " * Running on http://127.0.0.1:5000/ (Press CTRL+C to quit)\n",
      "127.0.0.1 - - [20/May/2024 20:07:23] \"POST / HTTP/1.1\" 200 -\n"
     ]
    }
   ],
   "source": [
    "app.run()"
   ]
  },
  {
   "cell_type": "code",
   "execution_count": 52,
   "metadata": {
    "colab": {
     "base_uri": "https://localhost:8080/",
     "height": 34
    },
    "id": "RlAacR9czmMT",
    "outputId": "c6f64277-382c-4ffb-f445-272dc8d5f302"
   },
   "outputs": [
    {
     "data": {
      "application/javascript": [
       "(async (port, path, text, element) => {\n",
       "    if (!google.colab.kernel.accessAllowed) {\n",
       "      return;\n",
       "    }\n",
       "    element.appendChild(document.createTextNode(''));\n",
       "    const url = await google.colab.kernel.proxyPort(port);\n",
       "    const anchor = document.createElement('a');\n",
       "    anchor.href = new URL(path, url).toString();\n",
       "    anchor.target = '_blank';\n",
       "    anchor.setAttribute('data-href', url + path);\n",
       "    anchor.textContent = text;\n",
       "    element.appendChild(anchor);\n",
       "  })(5000, \"/\", \"https://localhost:5000/\", window.element)"
      ],
      "text/plain": [
       "<IPython.core.display.Javascript object>"
      ]
     },
     "metadata": {},
     "output_type": "display_data"
    }
   ],
   "source": [
    "from google.colab import output\n",
    "output.serve_kernel_port_as_window(5000)"
   ]
  },
  {
   "cell_type": "markdown",
   "metadata": {},
   "source": [
    "### Accuracy and loss of different models after 50 epochs"
   ]
  },
  {
   "cell_type": "code",
   "execution_count": 23,
   "metadata": {},
   "outputs": [
    {
     "data": {
      "image/png": "[encoded data removed]",
      "text/plain": [
       "<Figure size 864x576 with 1 Axes>"
      ]
     },
     "metadata": {
      "needs_background": "light"
     },
     "output_type": "display_data"
    }
   ],
   "source": [
    "import matplotlib.pyplot as plt\n",
    "import numpy as np\n",
    "\n",
    "# Define the data\n",
    "models = [\"LSTM\", \"BILSTM\", \"CNN\", \"GRU\"]\n",
    "urdu_loss = [2.525, 2.52, 1.90, 2.01]\n",
    "urdu_accuracy = [0.155, 0.17, 0.23, 0.21]\n",
    "english_loss = [1.95, 1.90, 1.96, 2.00]\n",
    "english_accuracy = [0.45, 0.46, 0.42, 0.32]\n",
    "spanish_loss = [1.63, 1.60, 1.70, 2.06]\n",
    "spanish_accuracy = [0.34, 0.37, 0.36, 0.33]\n",
    "\n",
    "# Set the width of the bars\n",
    "bar_width = 0.2\n",
    "\n",
    "# Set the positions of the bars on the x-axis\n",
    "r1 = np.arange(len(models))\n",
    "r2 = [x + bar_width for x in r1]\n",
    "r3 = [x + bar_width for x in r2]\n",
    "\n",
    "# Create a bar graph for loss\n",
    "plt.figure(figsize=(12, 8))\n",
    "plt.bar(r1, urdu_loss, color='lightblue', width=bar_width, edgecolor='grey', label='Urdu Loss')\n",
    "plt.bar(r2, english_loss, color='skyblue', width=bar_width, edgecolor='grey', label='English Loss')\n",
    "plt.bar(r3, spanish_loss, color='dodgerblue', width=bar_width, edgecolor='grey', label='Spanish Loss')\n",
    "\n",
    "# Create a bar graph for accuracy\n",
    "plt.bar(r1, urdu_accuracy, color='lightcoral', width=bar_width, edgecolor='grey', label='Urdu Accuracy', alpha=0.5)\n",
    "plt.bar(r2, english_accuracy, color='indianred', width=bar_width, edgecolor='grey', label='English Accuracy', alpha=0.5)\n",
    "plt.bar(r3, spanish_accuracy, color='firebrick', width=bar_width, edgecolor='grey', label='Spanish Accuracy', alpha=0.5)\n",
    "\n",
    "# Add labels and title\n",
    "plt.xlabel('Models', fontweight='bold')\n",
    "plt.xticks([r + bar_width for r in range(len(models))], models)\n",
    "plt.ylabel('Scores')\n",
    "plt.title('Loss and Accuracy of Different Models on Urdu, English, and Spanish Datasets after 50 Epochs')\n",
    "\n",
    "# Add legend\n",
    "plt.legend()\n",
    "\n",
    "# Show the plot\n",
    "plt.show()\n"
   ]
  },
  {
   "cell_type": "markdown",
   "metadata": {},
   "source": [
    "### Accuracy and loss of different models after 100 epochs"
   ]
  },
  {
   "cell_type": "code",
   "execution_count": 24,
   "metadata": {},
   "outputs": [
    {
     "data": {
      "image/png": "[encoded data removed]",
      "text/plain": [
       "<Figure size 864x576 with 1 Axes>"
      ]
     },
     "metadata": {
      "needs_background": "light"
     },
     "output_type": "display_data"
    }
   ],
   "source": [
    "import matplotlib.pyplot as plt\n",
    "import numpy as np\n",
    "\n",
    "# Define the data\n",
    "models = [\"LSTM\", \"BILSTM\", \"CNN\", \"GRU\"]\n",
    "urdu_loss = [2.00, 1.99, 1.00, 1.11]\n",
    "urdu_accuracy = [0.30, 0.36, 0.46, 0.53]\n",
    "english_loss = [1.60, 1.57, 1.16, 1.09]\n",
    "english_accuracy = [0.51, 0.58, 0.57, 0.53]\n",
    "spanish_loss = [1.45, 1.36, 1.23, 1.21]\n",
    "spanish_accuracy = [0.39, 0.53, 0.56, 0.51]\n",
    "\n",
    "# Set the width of the bars\n",
    "bar_width = 0.2\n",
    "\n",
    "# Set the positions of the bars on the x-axis\n",
    "r1 = np.arange(len(models))\n",
    "r2 = [x + bar_width for x in r1]\n",
    "r3 = [x + bar_width for x in r2]\n",
    "\n",
    "# Create a bar graph for loss\n",
    "plt.figure(figsize=(12, 8))\n",
    "plt.bar(r1, urdu_loss, color='lightblue', width=bar_width, edgecolor='grey', label='Urdu Loss')\n",
    "plt.bar(r2, english_loss, color='skyblue', width=bar_width, edgecolor='grey', label='English Loss')\n",
    "plt.bar(r3, spanish_loss, color='dodgerblue', width=bar_width, edgecolor='grey', label='Spanish Loss')\n",
    "\n",
    "# Create a bar graph for accuracy\n",
    "plt.bar(r1, urdu_accuracy, color='lightcoral', width=bar_width, edgecolor='grey', label='Urdu Accuracy', alpha=0.5)\n",
    "plt.bar(r2, english_accuracy, color='indianred', width=bar_width, edgecolor='grey', label='English Accuracy', alpha=0.5)\n",
    "plt.bar(r3, spanish_accuracy, color='firebrick', width=bar_width, edgecolor='grey', label='Spanish Accuracy', alpha=0.5)\n",
    "\n",
    "# Add labels and title\n",
    "plt.xlabel('Models', fontweight='bold')\n",
    "plt.xticks([r + bar_width for r in range(len(models))], models)\n",
    "plt.ylabel('Scores')\n",
    "plt.title('Loss and Accuracy of Different Models on Urdu, English, and Spanish Datasets after 100 Epochs')\n",
    "\n",
    "# Add legend\n",
    "plt.legend()\n",
    "\n",
    "# Show the plot\n",
    "plt.show()\n"
   ]
  },
  {
   "cell_type": "markdown",
   "metadata": {},
   "source": [
    "### Accuracy and loss of different models after 150 epochs"
   ]
  },
  {
   "cell_type": "code",
   "execution_count": 25,
   "metadata": {
    "scrolled": true
   },
   "outputs": [
    {
     "data": {
      "image/png": "[encoded data removed]",
      "text/plain": [
       "<Figure size 864x576 with 1 Axes>"
      ]
     },
     "metadata": {
      "needs_background": "light"
     },
     "output_type": "display_data"
    }
   ],
   "source": [
    "import matplotlib.pyplot as plt\n",
    "import numpy as np\n",
    "\n",
    "# Define the data\n",
    "models = [\"LSTM\", \"BILSTM\", \"CNN\", \"GRU\"]\n",
    "urdu_loss = [1.50, 0.90, 0.90, 0.89]\n",
    "urdu_accuracy = [0.60, 0.65, 0.62, 0.58]\n",
    "english_loss = [0.98, 0.95, 0.92, 0.99]\n",
    "english_accuracy = [0.67, 0.69, 0.65, 0.60]\n",
    "spanish_loss = [0.97, 0.96, 0.91, 0.98]\n",
    "spanish_accuracy = [0.56, 0.59, 0.58, 0.57]\n",
    "\n",
    "# Set the width of the bars\n",
    "bar_width = 0.2\n",
    "\n",
    "# Set the positions of the bars on the x-axis\n",
    "r1 = np.arange(len(models))\n",
    "r2 = [x + bar_width for x in r1]\n",
    "r3 = [x + bar_width for x in r2]\n",
    "\n",
    "# Create a bar graph for loss\n",
    "plt.figure(figsize=(12, 8))\n",
    "plt.bar(r1, urdu_loss, color='lightblue', width=bar_width, edgecolor='grey', label='Urdu Loss')\n",
    "plt.bar(r2, english_loss, color='skyblue', width=bar_width, edgecolor='grey', label='English Loss')\n",
    "plt.bar(r3, spanish_loss, color='dodgerblue', width=bar_width, edgecolor='grey', label='Spanish Loss')\n",
    "\n",
    "# Create a bar graph for accuracy\n",
    "plt.bar(r1, urdu_accuracy, color='lightcoral', width=bar_width, edgecolor='grey', label='Urdu Accuracy', alpha=0.5)\n",
    "plt.bar(r2, english_accuracy, color='indianred', width=bar_width, edgecolor='grey', label='English Accuracy', alpha=0.5)\n",
    "plt.bar(r3, spanish_accuracy, color='firebrick', width=bar_width, edgecolor='grey', label='Spanish Accuracy', alpha=0.5)\n",
    "\n",
    "# Add labels and title\n",
    "plt.xlabel('Models', fontweight='bold')\n",
    "plt.xticks([r + bar_width for r in range(len(models))], models)\n",
    "plt.ylabel('Scores')\n",
    "plt.title('Loss and Accuracy of Different Models on Urdu, English, and Spanish Datasets after 150 Epochs')\n",
    "\n",
    "# Add legend\n",
    "plt.legend()\n",
    "\n",
    "# Show the plot\n",
    "plt.show()\n"
   ]
  },
  {
   "cell_type": "markdown",
   "metadata": {},
   "source": [
    "### Function to test BiLSTM model"
   ]
  },
  {
   "cell_type": "code",
   "execution_count": null,
   "metadata": {
    "id": "2f8LsMdCzmMU"
   },
   "outputs": [],
   "source": [
    "# Function to test BiLSTM model\n",
    "def test_BiLSTM_Model(text):\n",
    "    # Load the pre-trained BiLSTM model\n",
    "    model = tf.keras.models.load_model(\"bilstm_model.h5\")\n",
    "\n",
    "    # Generate text using the BiLSTM model\n",
    "    seed_text = text\n",
    "    next_words = 25\n",
    "    generated_text = seed_text\n",
    "    for _ in range(next_words):\n",
    "        # Tokenize the seed text\n",
    "        token_list = tokenizer.texts_to_sequences([seed_text])[0]\n",
    "        # Pad the token list\n",
    "        token_list = pad_sequences([token_list], maxlen=max_sequence_len-1, padding='pre')\n",
    "        # Predict the next word\n",
    "        predicted = np.argmax(model.predict(token_list), axis=-1)\n",
    "        output_word = \"\"\n",
    "        # Map predicted index to word\n",
    "        for word, index in tokenizer.word_index.items():\n",
    "            if index == predicted:\n",
    "                output_word = word\n",
    "                break\n",
    "        # Append the predicted word to the seed text\n",
    "        seed_text += \" \" + output_word\n",
    "        generated_text += \" \" + output_word\n",
    "\n",
    "    return generated_text\n"
   ]
  },
  {
   "cell_type": "code",
   "execution_count": null,
   "metadata": {},
   "outputs": [],
   "source": [
    "# Example seed text\n",
    "seed_text = \"The sun \"\n",
    "\n",
    "# Generate text using the BiLSTM model\n",
    "generated_text = test_BiLSTM_Model(seed_text)\n",
    "print(\"Generated Text:\")\n",
    "print(generated_text)\n"
   ]
  }
 ],
 "metadata": {
  "colab": {
   "provenance": []
  },
  "kernelspec": {
   "display_name": "Python 3",
   "language": "python",
   "name": "python3"
  },
  "language_info": {
   "codemirror_mode": {
    "name": "ipython",
    "version": 3
   },
   "file_extension": ".py",
   "mimetype": "text/x-python",
   "name": "python",
   "nbconvert_exporter": "python",
   "pygments_lexer": "ipython3",
   "version": "3.6.13"
  }
 },
 "nbformat": 4,
 "nbformat_minor": 1
}
